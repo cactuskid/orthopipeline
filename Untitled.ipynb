{
 "cells": [
  {
   "cell_type": "code",
   "execution_count": 15,
   "metadata": {},
   "outputs": [],
   "source": [
    "import hashlib\n",
    "from matplotlib import pyplot as plt\n",
    "import numpy as np\n",
    "from scipy import signal\n",
    "from functools import reduce \n",
    "\n",
    "def noisept(coordinates):\n",
    "    #this needs to be crazy fast\n",
    "    m = hashlib.md5()\n",
    "    m.update(''.join( [ str(c) + ','  for c in coordinates ] ).encode() )\n",
    "    m.digest()\n",
    "    return m.digest()\n",
    "\n",
    "def downsample(ndarr , scaling):\n",
    "    #todo. implement n scaling factors\n",
    "    orishape = ndarr.shape\n",
    "    entries = reduce((lambda x, y: x * y), list(orishape))\n",
    "    scalingcheck = [ o % scaling for o in orishape ]\n",
    "    if sum( scalingcheck != 0 ):\n",
    "        print('!scale w correct multiples')\n",
    "    scaledsizes = [ int(l/scale) for l in orishape ]\n",
    "    f = signal.resample( ndarr.ravel() , entries / scaling )\n",
    "    f = f.reshape( tuple(scaledsizes) )\n",
    "    \n",
    "    upsampled = np.zeros(orishape)\n",
    "    #passing several copies of the downsampled noise\n",
    "    for i in range(scaling):\n",
    "        idx = [ ( p + i  for pt in itertools.product( [  range(s) for s in scaledsizes ]  ) for p in pt  ) ]\n",
    "        #should be the same size as f\n",
    "        \n",
    "        upsampled[idx] = f \n",
    "    return upsampled\n",
    "\n",
    "def wavelet_noise( pts, scaling ):\n",
    "    #watch out for edge effects\n",
    "    #pts is ndarr to allow for time\n",
    "    noisepts = [noisept(pt) for pt in pts]\n",
    "    print(noisepts)\n",
    "    return downsample(noise , scaling ) - noise\n",
    "    \n",
    "\n",
    "#wavelet noise working in nd -> time dimension noise for clouds or rand gen of objects in world\n",
    "#players arriving at the same place at the same time should see the same thing since these are based on hashvals...\n",
    "#each player generates the world locally on their machine but the world remains invariant.\n",
    "#get time remotely so the world stays on the same clock\n"
   ]
  },
  {
   "cell_type": "code",
   "execution_count": 16,
   "metadata": {},
   "outputs": [
    {
     "name": "stdout",
     "output_type": "stream",
     "text": [
      "[(range(0, 100),), (range(0, 100),)]\n",
      "[b'k\\xf8\\x0bj\\xf2\\xd0\\x1a\\x07\\\\\\x12\\xa0q([\\x1f\\x0e', b'k\\xf8\\x0bj\\xf2\\xd0\\x1a\\x07\\\\\\x12\\xa0q([\\x1f\\x0e']\n"
     ]
    },
    {
     "ename": "NameError",
     "evalue": "name 'noise' is not defined",
     "output_type": "error",
     "traceback": [
      "\u001b[0;31m---------------------------------------------------------------------------\u001b[0m",
      "\u001b[0;31mNameError\u001b[0m                                 Traceback (most recent call last)",
      "\u001b[0;32m<ipython-input-16-f0e6ef7c6844>\u001b[0m in \u001b[0;36m<module>\u001b[0;34m\u001b[0m\n\u001b[1;32m     23\u001b[0m \u001b[0;34m\u001b[0m\u001b[0m\n\u001b[1;32m     24\u001b[0m     \u001b[0mprint\u001b[0m\u001b[0;34m(\u001b[0m\u001b[0mpts\u001b[0m\u001b[0;34m)\u001b[0m\u001b[0;34m\u001b[0m\u001b[0;34m\u001b[0m\u001b[0m\n\u001b[0;32m---> 25\u001b[0;31m     \u001b[0mwavelet_noise\u001b[0m\u001b[0;34m(\u001b[0m\u001b[0mpts\u001b[0m\u001b[0;34m,\u001b[0m \u001b[0mscaling\u001b[0m \u001b[0;34m=\u001b[0m \u001b[0;36m2\u001b[0m\u001b[0;34m)\u001b[0m\u001b[0;34m\u001b[0m\u001b[0;34m\u001b[0m\u001b[0m\n\u001b[0m\u001b[1;32m     26\u001b[0m \u001b[0;34m\u001b[0m\u001b[0m\n\u001b[1;32m     27\u001b[0m \u001b[0;34m\u001b[0m\u001b[0m\n",
      "\u001b[0;32m<ipython-input-15-1a8d5ae83fbd>\u001b[0m in \u001b[0;36mwavelet_noise\u001b[0;34m(pts, scaling)\u001b[0m\n\u001b[1;32m     37\u001b[0m     \u001b[0mnoisepts\u001b[0m \u001b[0;34m=\u001b[0m \u001b[0;34m[\u001b[0m\u001b[0mnoisept\u001b[0m\u001b[0;34m(\u001b[0m\u001b[0mpt\u001b[0m\u001b[0;34m)\u001b[0m \u001b[0;32mfor\u001b[0m \u001b[0mpt\u001b[0m \u001b[0;32min\u001b[0m \u001b[0mpts\u001b[0m\u001b[0;34m]\u001b[0m\u001b[0;34m\u001b[0m\u001b[0;34m\u001b[0m\u001b[0m\n\u001b[1;32m     38\u001b[0m     \u001b[0mprint\u001b[0m\u001b[0;34m(\u001b[0m\u001b[0mnoisepts\u001b[0m\u001b[0;34m)\u001b[0m\u001b[0;34m\u001b[0m\u001b[0;34m\u001b[0m\u001b[0m\n\u001b[0;32m---> 39\u001b[0;31m     \u001b[0;32mreturn\u001b[0m \u001b[0mdownsample\u001b[0m\u001b[0;34m(\u001b[0m\u001b[0mnoise\u001b[0m \u001b[0;34m,\u001b[0m \u001b[0mscaling\u001b[0m \u001b[0;34m)\u001b[0m \u001b[0;34m-\u001b[0m \u001b[0mnoise\u001b[0m\u001b[0;34m\u001b[0m\u001b[0;34m\u001b[0m\u001b[0m\n\u001b[0m\u001b[1;32m     40\u001b[0m \u001b[0;34m\u001b[0m\u001b[0m\n\u001b[1;32m     41\u001b[0m \u001b[0;34m\u001b[0m\u001b[0m\n",
      "\u001b[0;31mNameError\u001b[0m: name 'noise' is not defined"
     ]
    }
   ],
   "source": [
    "\n",
    "#this can be parallelized to the gpu\n",
    "#nd pt grids/spheres whatever...\n",
    "#get the wavelet noise func for any set of pts\n",
    "import itertools\n",
    "import  multiprocessing as mp\n",
    "from functools import partial\n",
    "\n",
    "pool = mp.Pool()\n",
    "\n",
    "#lets gen some map tiles\n",
    "\n",
    "ranges1 = [ (0,100) , (0,100) ]\n",
    "\n",
    "ranges2 = [ (50,150) , (50,150) ]\n",
    "\n",
    "ranges3 = [ (100,200) , (100,200) ]\n",
    "\n",
    "ranges4 = [ (0,200) , (0,200) ]\n",
    "\n",
    "\n",
    "for ranges in [ ranges1 ,ranges2 ,ranges3 ,ranges4  ]:\n",
    "    pts = [ p for p in itertools.product( [ range(*r) for r in ranges] ) ]\n",
    "    \n",
    "    print(pts)\n",
    "    wavelet_noise(pts, scaling = 2)\n",
    "\n",
    "\n"
   ]
  },
  {
   "cell_type": "code",
   "execution_count": null,
   "metadata": {},
   "outputs": [],
   "source": []
  }
 ],
 "metadata": {
  "kernelspec": {
   "display_name": "Python 3",
   "language": "python",
   "name": "python3"
  },
  "language_info": {
   "codemirror_mode": {
    "name": "ipython",
    "version": 3
   },
   "file_extension": ".py",
   "mimetype": "text/x-python",
   "name": "python",
   "nbconvert_exporter": "python",
   "pygments_lexer": "ipython3",
   "version": "3.7.3"
  }
 },
 "nbformat": 4,
 "nbformat_minor": 4
}
